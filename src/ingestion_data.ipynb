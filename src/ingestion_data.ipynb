{
 "cells": [
  {
   "cell_type": "code",
   "execution_count": null,
   "id": "1d08336c",
   "metadata": {
    "vscode": {
     "languageId": "plaintext"
    }
   },
   "outputs": [],
   "source": [
    "# For debugging\n",
    "dbutils.widgets.text('puYear', defaultValue='2019')\n",
    "dbutils.widgets.text('puMonth', defaultValue='1')\n",
    "dbutils.widgets.text('passengerCount', defaultValue='0')\n",
    "dbutils.widgets.text('totalAmount', defaultValue='10')\n",
    "dbutils.widgets.text('tripDistance', defaultValue='1')\n",
    "\n",
    "\n",
    "puYear = int(dbutils.widgets.get('puYear'))\n",
    "puMonth = int(dbutils.widgets.get('puMonth'))\n",
    "passengerCount = int(dbutils.widgets.get('passengerCount'))\n",
    "totalAmount = int(dbutils.widgets.get('totalAmount'))\n",
    "tripDistance = int(dbutils.widgets.get('tripDistance'))\n",
    "\n",
    "print(f\"puYear: {puYear}; type: {type(puYear)}\")\n",
    "print(f\"puMonth: {puMonth}; type: {type(puMonth)}\")\n",
    "print(f\"passengerCount: {passengerCount}; type: {type(passengerCount)}\")\n",
    "print(f\"totalAmount: {totalAmount}; type: {type(totalAmount)}\")\n",
    "print(f\"tripDistance: {tripDistance}; type: {type(tripDistance)}\")"
   ]
  },
  {
   "cell_type": "code",
   "execution_count": null,
   "id": "b7054532",
   "metadata": {
    "vscode": {
     "languageId": "plaintext"
    }
   },
   "outputs": [],
   "source": [
    "df = spark.read.parquet(\"/Volumes/demo_ext/demo_schema/ext_vol/dab-raw/files/yellow_taxi/yellow/\") \\\n",
    "      .filter(f\"puYear = {puYear} AND puMonth = {puMonth}\")"
   ]
  },
  {
   "cell_type": "code",
   "execution_count": null,
   "id": "b239e28c",
   "metadata": {
    "vscode": {
     "languageId": "plaintext"
    }
   },
   "outputs": [],
   "source": [
    "df_filtered = df.write.parquet(f\"Volumes/demo_ext/demo_schema/ext_vol/filtered/yellow_filtered/{puYear}_{puMonth}\", mode=\"overwrite\")"
   ]
  },
  {
   "cell_type": "code",
   "execution_count": null,
   "id": "36909377",
   "metadata": {
    "vscode": {
     "languageId": "plaintext"
    }
   },
   "outputs": [],
   "source": [
    "dataset_config = {\n",
    "  \"filter\": [\n",
    "    {\n",
    "      \"filtered_path\": f\"Volumes/demo_ext/demo_schema/ext_vol/filtered/yellow_filtered/{puYear}_{puMonth}\",\n",
    "    }\n",
    "  ]\n",
    "}"
   ]
  },
  {
   "cell_type": "code",
   "execution_count": null,
   "id": "01b4feb8",
   "metadata": {
    "vscode": {
     "languageId": "plaintext"
    }
   },
   "outputs": [],
   "source": [
    "display(dataset_config)"
   ]
  },
  {
   "cell_type": "code",
   "execution_count": null,
   "id": "d3268642",
   "metadata": {
    "vscode": {
     "languageId": "plaintext"
    }
   },
   "outputs": [],
   "source": [
    "# Dataset configuration\n",
    "dbutils.jobs.taskValues.set(key = \"dataset_config_info\", value = dataset_config)"
   ]
  }
 ],
 "metadata": {
  "language_info": {
   "name": "python"
  }
 },
 "nbformat": 4,
 "nbformat_minor": 5
}
