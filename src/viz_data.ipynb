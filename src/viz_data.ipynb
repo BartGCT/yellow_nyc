{
 "cells": [
  {
   "cell_type": "code",
   "execution_count": null,
   "id": "40269d7b",
   "metadata": {
    "vscode": {
     "languageId": "plaintext"
    }
   },
   "outputs": [],
   "source": [
    "\n",
    "# For debug only\n",
    "processed_path_debug = \"/Volumes/demo_ext/demo_schema/ext_vol/processed/yellow_processed/2019_1/\"\n",
    "processed_path = dbutils.jobs.taskValues.get(taskKey= \"filter_data\", key = \"processed_path\", debugValue = processed_path_debug)\n",
    "print(processed_path)"
   ]
  },
  {
   "cell_type": "code",
   "execution_count": null,
   "id": "cb6eb598",
   "metadata": {
    "vscode": {
     "languageId": "plaintext"
    }
   },
   "outputs": [],
   "source": [
    "processed_df = spark.read.parquet(processed_path)"
   ]
  },
  {
   "cell_type": "code",
   "execution_count": null,
   "id": "ccbb65a2",
   "metadata": {
    "vscode": {
     "languageId": "plaintext"
    }
   },
   "outputs": [],
   "source": [
    "processed_df.createOrReplaceTempView(\"trip_data\")"
   ]
  },
  {
   "cell_type": "code",
   "execution_count": null,
   "id": "2848b994",
   "metadata": {
    "vscode": {
     "languageId": "plaintext"
    }
   },
   "outputs": [],
   "source": [
    "# Create some visualization (Pandas/Matplotlib) [Vendor ID]\n",
    "df_viz1 = spark.sql(\"SELECT COUNT(vendorID) as count_vendor, vendorID FROM trip_data GROUP BY vendorID\").toPandas()\n",
    "display(df_viz1)\n",
    "df_viz1.plot.pie(y='count_vendor', labels=df_viz1['vendorID'], legend=True, figsize=(10, 10))"
   ]
  }
 ],
 "metadata": {
  "language_info": {
   "name": "python"
  }
 },
 "nbformat": 4,
 "nbformat_minor": 5
}
