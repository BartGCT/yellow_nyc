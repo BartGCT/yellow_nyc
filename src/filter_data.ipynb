{
 "cells": [
  {
   "cell_type": "code",
   "execution_count": null,
   "id": "4b30fe34",
   "metadata": {
    "vscode": {
     "languageId": "plaintext"
    }
   },
   "outputs": [],
   "source": [
    "dataset_config_debug = {\n",
    "  \"filter\": [\n",
    "    {\n",
    "      \"puYear\": 2019,\n",
    "      \"puMonth\": 1,\n",
    "      \"filtered_path\": f\"/Volumes/demo_ext/demo_schema/ext_vol/filtered/yellow_filtered/2019_1\",\n",
    "      \"passengerCount\": 0,\n",
    "      \"totalAmount\": 10,\n",
    "      \"tripDistance\": 1\n",
    "    }\n",
    "  ]\n",
    "}"
   ]
  },
  {
   "cell_type": "code",
   "execution_count": null,
   "id": "eda3c0b3",
   "metadata": {
    "vscode": {
     "languageId": "plaintext"
    }
   },
   "outputs": [],
   "source": [
    "model_config = dbutils.jobs.taskValues.get(taskKey= \"ingestion_data\", key = \"dataset_config_info\", debugValue = dataset_config_debug)\n",
    "\n",
    "filtered_path = model_config[\"filter\"][0][\"filtered_path\"]\n",
    "\n",
    "# For Debug you need to uncomment these values\n",
    "# puYear = model_config[\"filter\"][0][\"puYear\"]\n",
    "# puMonth = model_config[\"filter\"][0][\"puMonth\"]\n",
    "# passengerCount = model_config[\"filter\"][0][\"passengerCount\"]\n",
    "# totalAmount = model_config[\"filter\"][0][\"totalAmount\"]\n",
    "# tripDistance = model_config[\"filter\"][0][\"tripDistance\"]\n",
    "\n",
    "\n",
    "puYear = int(dbutils.widgets.get('puYear'))\n",
    "puMonth = int(dbutils.widgets.get('puMonth'))\n",
    "passengerCount = int(dbutils.widgets.get('passengerCount'))\n",
    "totalAmount = int(dbutils.widgets.get('totalAmount'))\n",
    "tripDistance = int(dbutils.widgets.get('tripDistance'))\n",
    "     "
   ]
  },
  {
   "cell_type": "code",
   "execution_count": null,
   "id": "e02a4f45",
   "metadata": {
    "vscode": {
     "languageId": "plaintext"
    }
   },
   "outputs": [],
   "source": [
    "df = spark.read.parquet(filtered_path)"
   ]
  },
  {
   "cell_type": "code",
   "execution_count": null,
   "id": "a851844d",
   "metadata": {
    "vscode": {
     "languageId": "plaintext"
    }
   },
   "outputs": [],
   "source": [
    "processed_df = df.where(\n",
    "  (df.passengerCount > passengerCount) &\n",
    "  (df.totalAmount > totalAmount) &\n",
    "  (df.tripDistance > tripDistance)\n",
    ") \n",
    "display(processed_df)"
   ]
  },
  {
   "cell_type": "code",
   "execution_count": null,
   "id": "2ba57a4b",
   "metadata": {
    "vscode": {
     "languageId": "plaintext"
    }
   },
   "outputs": [],
   "source": [
    "# Write data to processed\n",
    "processed_path = f\"/Volumes/demo_ext/demo_schema/ext_vol/yellow_processed/{puYear}_{puMonth}\"\n",
    "processed_df.write.parquet(processed_path, mode=\"overwrite\")"
   ]
  },
  {
   "cell_type": "code",
   "execution_count": null,
   "id": "c5c12214",
   "metadata": {
    "vscode": {
     "languageId": "plaintext"
    }
   },
   "outputs": [],
   "source": [
    "# Passing processing path to next task\n",
    "dbutils.jobs.taskValues.set(key = \"processed_path\", value = processed_path)"
   ]
  }
 ],
 "metadata": {
  "language_info": {
   "name": "python"
  }
 },
 "nbformat": 4,
 "nbformat_minor": 5
}
